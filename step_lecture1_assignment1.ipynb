{
  "nbformat": 4,
  "nbformat_minor": 0,
  "metadata": {
    "colab": {
      "name": "step_lecture1_assignment1.ipynb",
      "provenance": [],
      "collapsed_sections": [],
      "mount_file_id": "1jFE_8c4Ga4aCNFiMgkKSsj8VEwfQmePv",
      "authorship_tag": "ABX9TyMwYfmc6XAn8E3M6z00HW8A"
    },
    "kernelspec": {
      "name": "python3",
      "display_name": "Python 3"
    }
  },
  "cells": [
    {
      "cell_type": "code",
      "metadata": {
        "id": "KYkk1ptME_yK",
        "colab_type": "code",
        "outputId": "b3300a8a-e5b6-46c9-d14c-e77ecef48c0b",
        "colab": {
          "base_uri": "https://localhost:8080/",
          "height": 33
        }
      },
      "source": [
        "%cd 'drive/My Drive/STEP/files/lecture1'"
      ],
      "execution_count": 2,
      "outputs": [
        {
          "output_type": "stream",
          "text": [
            "/content/drive/My Drive/STEP/files/lecture1\n"
          ],
          "name": "stdout"
        }
      ]
    },
    {
      "cell_type": "markdown",
      "metadata": {
        "id": "PcqL9PoSPOW-",
        "colab_type": "text"
      },
      "source": [
        "## Assignment 1\n",
        "1. Anagram using unsorted dictionary. \n",
        "2. Anagram using sorted dictionary.\n"
      ]
    },
    {
      "cell_type": "code",
      "metadata": {
        "id": "U5wLJzBVFcEw",
        "colab_type": "code",
        "outputId": "1b121032-7b3a-400f-b9e8-bff8c178a946",
        "colab": {
          "base_uri": "https://localhost:8080/",
          "height": 115
        }
      },
      "source": [
        "\n",
        "## 1. Straight way\n",
        "\n",
        "# linear search\n",
        "def linear_search(target, lis):  \n",
        "\n",
        "  for item in lis:\n",
        "    if (item == target):\n",
        "      return item\n",
        "  return False\n",
        "\n",
        "\n",
        "    \n",
        "class SimpleAnagram:\n",
        "\n",
        "  def __init__(self, dic):\n",
        "        self.dic = dic\n",
        "\n",
        "\n",
        "#  for generating all possible patterns using recursion\n",
        "  def generate_possible_list(self, string): \n",
        "\n",
        "    if len(string) == 1:\n",
        "      return string\n",
        "    out_list = []\n",
        "    for c in string:\n",
        "      for p in self.generate_possible_list(string.replace(c, '', 1)):\n",
        "        out_list.append(c+p)\n",
        "    return out_list\n",
        "\n",
        "\n",
        " #  to search and obtain anagram from a given string \n",
        "  def get_anagram(self, random_word):   \n",
        "\n",
        "    possible_list = self.generate_possible_list(random_word)  # get list of all possible patterns \n",
        "\n",
        "    for w in possible_list:    # search the item in the dictionary\n",
        "      anagram = linear_search(w, self.dic)\n",
        "      if(anagram and anagram != random_word):\n",
        "        return anagram\n",
        "\n",
        "    return \"Not Found\"\n",
        "\n",
        "\n",
        "\n",
        "\n",
        "\n",
        "\n",
        "\n",
        "## 2. Using sorted dictionary\n",
        "\n",
        "\n",
        "class FasterAnagram:\n",
        "\n",
        "  def __init__(self, dic):\n",
        "        self.dic = dic\n",
        "        self.dic_sorted =self.sort_dictionary(self.dic)  # sort the dictionary at instantiation\n",
        "\n",
        "  \n",
        "#  for sorting the dictionary\n",
        "  def sort_dictionary(self, dic):\n",
        "    dic_semi_sorted = []\n",
        "\n",
        "    for item in self.dic:\n",
        "      dic_semi_sorted.append(\"\".join(sorted(item)))\n",
        "    dic_sorted = list(zip(dic_semi_sorted, self.dic))\n",
        "    return sorted(dic_sorted, key=lambda x: (x[0]))\n",
        "\n",
        "\n",
        "\n",
        "#  binary search that returns the orignal string\n",
        "  def binary_search_sorted(self, target_sorted, target_original, lis_sorted, l=0, r=None):\n",
        "    \n",
        "    if r is None:\n",
        "      r = len(lis_sorted)-1\n",
        "    if l>r:\n",
        "      return False\n",
        "\n",
        "    mid = (r+l)//2\n",
        "    if target_sorted == lis_sorted[mid][0] and target_original != lis_sorted[mid][1]:  # makes sure if the original patterns are not same. \n",
        "      return lis_sorted[mid][1]\n",
        "    if target_sorted < lis_sorted[mid][0]:\n",
        "      return self.binary_search_sorted(target_sorted, target_original, lis_sorted, l=l, r=mid-1)\n",
        "    else:\n",
        "      return self.binary_search_sorted(target_sorted, target_original, lis_sorted, l=mid+1, r=r)\n",
        "\n",
        "\n",
        "#  to search and obtain anagram from a given string\n",
        "  def get_anagram(self, random_word, sort_dic = False):   \n",
        "    \n",
        "    if sort_dic:\n",
        "      dic_sorted = self.sort_dictionary(self.dic)   # sorts the items in dictionary only if specified.\n",
        "\n",
        "    word_sorted = \"\".join((sorted(random_word)))  # sort target\n",
        "\n",
        "    anagram = self.binary_search_sorted(word_sorted, random_word, self.dic_sorted)\n",
        "    if anagram:\n",
        "      return anagram\n",
        "\n",
        "    return \"Not Found\"\n",
        "\n",
        "\n",
        "\n",
        "\n",
        "\n",
        "if __name__ == '__main__':\n",
        "  import time\n",
        "\n",
        "  file = open(\"dictionary.words.txt\", \"r\")\n",
        "  dic = list(file.read().split('\\n'))\n",
        "\n",
        "  linearAna = SimpleAnagram(dic)\n",
        "  fastAna = FasterAnagram(dic)\n",
        "\n",
        "  start_time = time.time()\n",
        "  print(linearAna.get_anagram('tmei'))\n",
        "  print(\"Straight (Linear Search) --- %s ms\" % ((time.time() - start_time)*100))\n",
        "\n",
        "\n",
        "  start_time = time.time()\n",
        "  print(fastAna.get_anagram('tmei', sort_dic =True))\n",
        "  print(\"Sort dictionary     --- %s ms\" % ((time.time() - start_time)*100))\n",
        "\n",
        "  start_time = time.time()\n",
        "  print(fastAna.get_anagram('tmei', sort_dic =False))\n",
        "  print(\"Use pre-sorted dictionary  --- %s ms\" % ((time.time() - start_time)*100))\n"
      ],
      "execution_count": 6,
      "outputs": [
        {
          "output_type": "stream",
          "text": [
            "time\n",
            "Straight (Linear Search) --- 1.3949871063232422 ms\n",
            "mite\n",
            "Sort dictionary     --- 13.701415061950684 ms\n",
            "mite\n",
            "Use pre-sorted dictionary  --- 0.007081031799316406 ms\n"
          ],
          "name": "stdout"
        }
      ]
    },
    {
      "cell_type": "code",
      "metadata": {
        "id": "zqXDgMnuFd2H",
        "colab_type": "code",
        "colab": {}
      },
      "source": [
        ""
      ],
      "execution_count": 0,
      "outputs": []
    }
  ]
}