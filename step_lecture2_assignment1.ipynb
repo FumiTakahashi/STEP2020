{
  "nbformat": 4,
  "nbformat_minor": 0,
  "metadata": {
    "colab": {
      "name": "step_lecture2_assignment1.ipynb",
      "provenance": [],
      "authorship_tag": "ABX9TyMLEonkGPdLDC1agNTtpkHl"
    },
    "kernelspec": {
      "name": "python3",
      "display_name": "Python 3"
    }
  },
  "cells": [
    {
      "cell_type": "code",
      "metadata": {
        "id": "AFy6xSN4SJs1",
        "colab_type": "code",
        "outputId": "a20dd3b4-8417-4c4d-eda5-5d05dc629e02",
        "colab": {
          "base_uri": "https://localhost:8080/",
          "height": 475
        }
      },
      "source": [
        "import numpy as np\n",
        "import sys, time\n",
        "import matplotlib.pyplot as plt\n",
        "\n",
        "# For checking the result of matrix multiplication\n",
        "def print_result(A):\n",
        "  total = 0\n",
        "  n = len(A[0])\n",
        "  for i in range(n):\n",
        "    print('\\n')\n",
        "    for j in range(n):\n",
        "      print(\"\\t\", A[i, j], end = \"\")\n",
        "      total += A[i, j]\n",
        "  print(\"\\nsum: %.6f\" % total)\n",
        "\n",
        "\n",
        "\n",
        "\n",
        "record = []  # to store the time\n",
        "N = int(input(\"maxium n: \"))\n",
        "for n in range(N):\n",
        "  a = np.zeros((n, n)) # Matrix A\n",
        "  b = np.zeros((n, n)) # Matrix B\n",
        "  c = np.zeros((n, n)) # Matrix C\n",
        "\n",
        "  # Initialize the matrices to some values.\n",
        "  for i in range(n):\n",
        "      for j in range(n):\n",
        "          a[i, j] = i * n + j\n",
        "          b[i, j] = j * n + i\n",
        "          c[i, j] = 0\n",
        "  \n",
        "  begin = time.time()\n",
        "\n",
        "  for i in range(n):\n",
        "    for j in range(n):\n",
        "      for k in range(n):\n",
        "        c[i,j] = c[i,j] + a[i,k] * b[k, j]\n",
        "\n",
        "  end = time.time()\n",
        "  record.append((end-begin))\n",
        "#print_result(c)\n",
        "\n",
        "\n",
        "\n",
        "\n",
        "record2 = []\n",
        "for n in range(N):\n",
        "  a = np.zeros((n, n)) # Matrix A\n",
        "  b = np.zeros((n, n)) # Matrix B\n",
        "  c = np.zeros((n, n)) # Matrix C\n",
        "\n",
        "  # Initialize the matrices to some values.\n",
        "  for i in range(n):\n",
        "      for j in range(n):\n",
        "          a[i, j] = i * n + j\n",
        "          b[i, j] = j * n + i\n",
        "          c[i, j] = 0\n",
        "\n",
        "\n",
        "  begin = time.time()\n",
        "  c = np.dot(a,b)\n",
        "\n",
        "  end = time.time()\n",
        "  record2.append((end-begin))\n",
        "\n",
        "\n",
        "\n",
        "# For plotting the result\n",
        "\n",
        "\n",
        "ns = [int(i) for i in range(1,len(record)+1)]\n",
        "plt.figure(figsize=(10,7))\n",
        "plt.scatter(ns, record)\n",
        "plt.scatter(ns, record2)\n",
        "plt.legend([\"Straight\", \"Numpy\"])\n",
        "plt.xlabel(\"Matrix Size N\")\n",
        "plt.ylabel(\"Execution Time (s)\")\n",
        "\n",
        "\n",
        "# Print out the sum of all values in C.\n",
        "# This should be 450 for N=3, 3680 for N=4, and 18250 for N=5.\n"
      ],
      "execution_count": 0,
      "outputs": [
        {
          "output_type": "stream",
          "text": [
            "maxium n: 100\n"
          ],
          "name": "stdout"
        },
        {
          "output_type": "execute_result",
          "data": {
            "text/plain": [
              "Text(0, 0.5, 'Execution Time (s)')"
            ]
          },
          "metadata": {
            "tags": []
          },
          "execution_count": 63
        },
        {
          "output_type": "display_data",
          "data": {
            "image/png": "[encoded data removed]",
            "text/plain": [
              "<Figure size 720x504 with 1 Axes>"
            ]
          },
          "metadata": {
            "tags": [],
            "needs_background": "light"
          }
        }
      ]
    },
    {
      "cell_type": "code",
      "metadata": {
        "id": "BKXzU4I3ZgE8",
        "colab_type": "code",
        "colab": {}
      },
      "source": [
        ""
      ],
      "execution_count": 0,
      "outputs": []
    }
  ]
}